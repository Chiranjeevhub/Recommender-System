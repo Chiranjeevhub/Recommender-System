{
 "cells": [
  {
   "cell_type": "code",
   "execution_count": 21,
   "metadata": {},
   "outputs": [],
   "source": [
    "path = r'C:\\Users\\u281311\\Desktop\\MnT Bank Project'"
   ]
  },
  {
   "cell_type": "code",
   "execution_count": 22,
   "metadata": {},
   "outputs": [],
   "source": [
    "import pandas as pd "
   ]
  },
  {
   "cell_type": "code",
   "execution_count": 23,
   "metadata": {},
   "outputs": [],
   "source": [
    "zip_data = pd.read_excel(path+'\\Zip_codes.xlsx',converters={'zip':str})"
   ]
  },
  {
   "cell_type": "code",
   "execution_count": 41,
   "metadata": {},
   "outputs": [],
   "source": [
    "def distance(zip_data,zip1,zip2):\n",
    "    # approximate radius of earth in km\n",
    "    zip_1  = zip_data[zip_data['zip']==zip1].iloc[0].tolist()[1:]\n",
    "    zip_2  = zip_data[zip_data['zip']==zip2].iloc[0].tolist()[1:]\n",
    "    R = 6373.0\n",
    "    lat1 = radians(zip_1[0])\n",
    "    lon1 = radians(zip_1[1])\n",
    "    lat2 = radians(zip_2[0])\n",
    "    lon2 = radians(zip_2[1])\n",
    "\n",
    "    dlon = lon2 - lon1\n",
    "    dlat = lat2 - lat1\n",
    "\n",
    "    a = sin(dlat / 2)**2 + cos(lat1) * cos(lat2) * sin(dlon / 2)**2\n",
    "    c = 2 * atan2(sqrt(a), sqrt(1 - a))\n",
    "\n",
    "    distance = round(R * c*(0.621371),2)\n",
    "    return(distance)"
   ]
  },
  {
   "cell_type": "code",
   "execution_count": 44,
   "metadata": {},
   "outputs": [
    {
     "data": {
      "text/plain": [
       "312.87"
      ]
     },
     "execution_count": 44,
     "metadata": {},
     "output_type": "execute_result"
    }
   ],
   "source": [
    "distance(zip_data,'15419','10005')\n",
    "# https://www.melissa.com/lookups/zipdistance.asp?zip1=10301&zip2=10005"
   ]
  }
 ],
 "metadata": {
  "kernelspec": {
   "display_name": "Python 3",
   "language": "python",
   "name": "python3"
  },
  "language_info": {
   "codemirror_mode": {
    "name": "ipython",
    "version": 3
   },
   "file_extension": ".py",
   "mimetype": "text/x-python",
   "name": "python",
   "nbconvert_exporter": "python",
   "pygments_lexer": "ipython3",
   "version": "3.6.4"
  }
 },
 "nbformat": 4,
 "nbformat_minor": 2
}
